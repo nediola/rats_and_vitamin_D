{
 "cells": [
  {
   "cell_type": "code",
   "execution_count": null,
   "metadata": {},
   "outputs": [],
   "source": [
    "import pandas as pd\n",
    "import numpy as np\n",
    "import scipy.stats\n",
    "import plotly.express as px\n",
    "import plotly.graph_objs as go\n",
    "from sklearn.decomposition import PCA\n",
    "from sklearn.preprocessing import StandardScaler\n",
    "from plotly.subplots import make_subplots\n",
    "from plotly.offline import download_plotlyjs, init_notebook_mode, plot, iplot"
   ]
  },
  {
   "cell_type": "code",
   "execution_count": null,
   "metadata": {},
   "outputs": [],
   "source": [
    "init_notebook_mode(connected=True)"
   ]
  },
  {
   "cell_type": "markdown",
   "metadata": {},
   "source": [
    "#### 1. Read the initial dataset"
   ]
  },
  {
   "cell_type": "code",
   "execution_count": null,
   "metadata": {},
   "outputs": [],
   "source": [
    "data = pd.read_csv('data/lipid_data.csv', low_memory=False)\n",
    "metadata = pd.read_csv('data/metadata.csv', low_memory=False)"
   ]
  },
  {
   "cell_type": "code",
   "execution_count": null,
   "metadata": {},
   "outputs": [],
   "source": [
    "mz = data['m/z']\n",
    "adducts = [str(d) for d in data['Adducts']]\n",
    "mz2adducts = dict(zip(mz, adducts))"
   ]
  },
  {
   "cell_type": "markdown",
   "metadata": {},
   "source": [
    "#### 2. Read the normalized dataset from Normalization-step"
   ]
  },
  {
   "cell_type": "code",
   "execution_count": null,
   "metadata": {},
   "outputs": [],
   "source": [
    "norm_data = pd.read_csv('data/normalized_data.csv')\n",
    "tissue_matchings = {'plasma': 'plasma', 'Liver':'liver', 'Muscle':'muscle',\n",
    "                    'Brain (CB)': 'brain_cb', 'Brain (PFC)': 'brain_pfc'}\n",
    "norm_data['tissue'] = norm_data.Tissue.map(tissue_matchings)\n",
    "norm_data['age'] = norm_data.rat_type.map({'young no': 'young', 'old no':'old', 'old yes':'old'})\n",
    "norm_data['vitamin'] = norm_data.rat_type.map({'young no': 'no', 'old no':'no', 'old yes':'yes'})\n",
    "norm_data['sample'] = norm_data['Unnamed: 0']"
   ]
  },
  {
   "cell_type": "markdown",
   "metadata": {},
   "source": [
    "#### 3. Select top 1000 m/z peaks for each tissue"
   ]
  },
  {
   "cell_type": "code",
   "execution_count": null,
   "metadata": {},
   "outputs": [],
   "source": [
    "MZ_COLUMNS = sorted(list(set(norm_data.columns) - set(\n",
    "    ['Unnamed: 0', 'tissue', 'age', 'rat_type', 'vitamin', 'sample', 'Tissue'])))"
   ]
  },
  {
   "cell_type": "code",
   "execution_count": null,
   "metadata": {},
   "outputs": [],
   "source": [
    "def select_top_mz(df, tissue, n):\n",
    "    max_mz = list(df[df.tissue == tissue][MZ_COLUMNS].mean().sort_values(ascending=False).index)[0:n]\n",
    "    return df[df.tissue == tissue][max_mz + ['sample', 'age', 'vitamin']]\n",
    "\n",
    "tissues_top = {}\n",
    "for tissue in ['plasma', 'liver', 'muscle', 'brain_cb', 'brain_pfc']:\n",
    "    tissues_top[tissue] = select_top_mz(norm_data, tissue, 1000)"
   ]
  },
  {
   "cell_type": "code",
   "execution_count": null,
   "metadata": {},
   "outputs": [],
   "source": [
    "tissues_top['liver'].head()"
   ]
  },
  {
   "cell_type": "markdown",
   "metadata": {},
   "source": [
    "#### 4. Calculate basic m/z statistics"
   ]
  },
  {
   "cell_type": "markdown",
   "metadata": {},
   "source": [
    "For every group of rats (old, young and old with vitamin D) for each m/z peak calculate median value of all samples"
   ]
  },
  {
   "cell_type": "code",
   "execution_count": null,
   "metadata": {},
   "outputs": [],
   "source": [
    "def calc_mz_stat(df):\n",
    "    mz_columns = sorted(list(set(df.columns) - set(\n",
    "    ['Unnamed: 0', 'tissue', 'age', 'rat_type', 'vitamin', 'sample', 'Tissue'])))\n",
    "    young = df[(df.age == 'young')]\n",
    "    old = df[(df.age == 'old')&(df.vitamin == 'no')]\n",
    "    old_d = df[(df.age == 'old')&(df.vitamin == 'yes')]\n",
    "    new_df = pd.DataFrame(young[mz_columns].median().reset_index())\n",
    "    new_df.columns = ['mz', 'median_young']\n",
    "    new_df['median_old'] = old[mz_columns].median().values\n",
    "    new_df['median_old_d'] = old_d[mz_columns].median().values\n",
    "    new_df['old_young_diff'] = (new_df.median_old - new_df.median_young) / new_df.median_young\n",
    "    new_df['old_d_young_diff'] = (new_df.median_old_d - new_df.median_young) / new_df.median_young\n",
    "    new_df['old_d_old_diff'] = (new_df.median_old_d - new_df.median_old) / new_df.median_old\n",
    "    new_df['abs_old_young_diff'] = np.abs(new_df.median_old - new_df.median_young) / new_df.median_young\n",
    "    new_df['adducts'] = new_df.mz.map(lambda x: mz2adducts[float(x)])\n",
    "    new_df = new_df[(new_df.median_old > 0)&(new_df.median_old_d > 0)&(new_df.median_young > 0)]\n",
    "    return new_df.sort_values('abs_old_young_diff', ascending=False)\n",
    "    \n",
    "tissue_2_mz_stat = {}\n",
    "for tissue in ['plasma', 'liver', 'muscle', 'brain_cb', 'brain_pfc']:\n",
    "    tissue_2_mz_stat[tissue] = calc_mz_stat(tissues_top[tissue])"
   ]
  },
  {
   "cell_type": "markdown",
   "metadata": {},
   "source": [
    "Calculate average diff between medians of peaks of old rats and old rats with vitamin D (in all tissues separetely)"
   ]
  },
  {
   "cell_type": "code",
   "execution_count": null,
   "metadata": {},
   "outputs": [],
   "source": [
    "print(\"Tissue\", \"N peaks\", \"Old\", \"Old+D\")\n",
    "for tissue in ['plasma', 'liver', 'muscle', 'brain_cb', 'brain_pfc']:\n",
    "    tmp = tissue_2_mz_stat[tissue]\n",
    "    print(tissue, tmp.shape[0], tmp.old_young_diff.mean(), tmp.old_d_young_diff.mean())"
   ]
  },
  {
   "cell_type": "markdown",
   "metadata": {},
   "source": [
    "Colorize positive and negative deviations"
   ]
  },
  {
   "cell_type": "code",
   "execution_count": null,
   "metadata": {},
   "outputs": [],
   "source": [
    "def color_map(value):\n",
    "    color = 'black'\n",
    "    if type(value) == type(0.1):\n",
    "        if value > 1:\n",
    "            color = 'green'\n",
    "        elif value < -0.5:\n",
    "            color = 'red'\n",
    "    return 'color: %s' % color"
   ]
  },
  {
   "cell_type": "code",
   "execution_count": null,
   "metadata": {},
   "outputs": [],
   "source": [
    "tissue_2_mz_stat['plasma'].sort_values('mz').style.applymap(color_map)"
   ]
  },
  {
   "cell_type": "code",
   "execution_count": null,
   "metadata": {},
   "outputs": [],
   "source": [
    "tissue_2_mz_stat['liver'].sort_values('mz').style.applymap(color_map)"
   ]
  },
  {
   "cell_type": "code",
   "execution_count": null,
   "metadata": {},
   "outputs": [],
   "source": [
    "tissue_2_mz_stat['muscle'].sort_values('mz').style.applymap(color_map)"
   ]
  },
  {
   "cell_type": "code",
   "execution_count": null,
   "metadata": {},
   "outputs": [],
   "source": [
    "tissue_2_mz_stat['brain_cb'].style.applymap(color_map)"
   ]
  },
  {
   "cell_type": "code",
   "execution_count": null,
   "metadata": {},
   "outputs": [],
   "source": [
    "tissue_2_mz_stat['brain_pfc'].style.applymap(color_map)"
   ]
  },
  {
   "cell_type": "markdown",
   "metadata": {},
   "source": [
    "#### 5. Draw volcano-plots"
   ]
  },
  {
   "cell_type": "code",
   "execution_count": null,
   "metadata": {},
   "outputs": [],
   "source": [
    "def calc_volcano(df_etalon, df_test):\n",
    "    mz_columns = sorted(list(set(df_etalon.columns) - set(\n",
    "    ['Unnamed: 0', 'tissue', 'age', 'rat_type', 'vitamin', 'sample', 'Tissue'])))\n",
    "    volcano_plot_df = pd.DataFrame(df_etalon[mz_columns].median().reset_index())\n",
    "    volcano_plot_df.columns = ['mz', 'etalon_median']\n",
    "    volcano_plot_df['test_median'] = df_test[mz_columns].median().values\n",
    "    volcano_plot_df['text'] = volcano_plot_df.mz + '_' + volcano_plot_df.mz.map(lambda x: mz2adducts[float(x)])\n",
    "    volcano_plot_df = volcano_plot_df[(volcano_plot_df.test_median > 0)&(volcano_plot_df.etalon_median > 0)]\n",
    "    volcano_plot_df['FC'] = volcano_plot_df.test_median/volcano_plot_df.etalon_median\n",
    "    volcano_plot_df['log2FC'] = np.log2(volcano_plot_df.FC)\n",
    "    anova_pvalue = []\n",
    "    for mz in volcano_plot_df['mz'].values:\n",
    "        anova_pvalue.append(scipy.stats.f_oneway(df_etalon[mz].values, df_test[mz].values).pvalue)\n",
    "    volcano_plot_df['pvalue'] = anova_pvalue\n",
    "    volcano_plot_df['minus_log10_pvalue'] = np.log10(anova_pvalue) * -1\n",
    "    return volcano_plot_df\n",
    "\n",
    "def volcano_color(log2fc):\n",
    "    if log2fc >= 2:\n",
    "        return 'green'\n",
    "    if log2fc <= -2:\n",
    "        return 'red'\n",
    "    return 'grey'\n",
    "\n",
    "def volcano_figures(df1, df2, title, max_val):\n",
    "    traces1 = []\n",
    "    traces1.append(go.Scatter(x=df1.log2FC, y=df1.minus_log10_pvalue,\n",
    "                              mode='markers',\n",
    "                              marker=dict(color=[volcano_color(lfc) for lfc in df1.log2FC.values]),\n",
    "                              name='m/z points',\n",
    "                              text=df1.text.values))\n",
    "    traces1.append(go.Scatter(x=df1.log2FC,\n",
    "                              y=[-np.log10(0.05)] * df1.log2FC.shape[0],\n",
    "                              line=dict(color='red', dash='dash'),\n",
    "                              name='p_value=0.05'))\n",
    "    traces1.append(go.Scatter(x=df1.log2FC,\n",
    "                              y=[max_val] * df1.log2FC.shape[0],\n",
    "                              line=dict(color='white'),\n",
    "                              name='y=3.5'))\n",
    "    \n",
    "    traces2 = []\n",
    "    traces2.append(go.Scatter(x=df2.log2FC, y=df2.minus_log10_pvalue,\n",
    "                              mode='markers',\n",
    "                              marker=dict(color=[volcano_color(lfc) for lfc in df2.log2FC.values]),\n",
    "                              name='m/z points',\n",
    "                              text=df2.text.values))\n",
    "    traces2.append(go.Scatter(x=df2.log2FC,\n",
    "                              y=[-np.log10(0.05)] * df2.log2FC.shape[0],\n",
    "                              line=dict(color='red', dash='dash'),\n",
    "                              name='p_value=0.05'))\n",
    "    traces2.append(go.Scatter(x=df2.log2FC,\n",
    "                              y=[max_val] * df2.log2FC.shape[0],\n",
    "                              line=dict(color='white'),\n",
    "                              name='y=3.5'))\n",
    "    fig = make_subplots(rows=1, cols=2, subplot_titles=(\"Old/Young\", \"OldD/Young\"))\n",
    "    fig.add_trace(traces1[0], row=1, col=1)\n",
    "    fig.add_trace(traces1[1], row=1, col=1)\n",
    "    fig.add_trace(traces1[2], row=1, col=1)\n",
    "    fig.add_trace(traces2[0], row=1, col=2)\n",
    "    fig.add_trace(traces2[1], row=1, col=2)\n",
    "    fig.add_trace(traces2[2], row=1, col=2)\n",
    "    fig.update_layout(height=600, width=1000, title_text=title)\n",
    "    fig.update_xaxes(title_text=\"log2 fold change\", row=1, col=1)\n",
    "    fig.update_xaxes(title_text=\"log2 fold change\", row=1, col=2)\n",
    "    fig.update_yaxes(title_text=\"-log10(pvalue)\", row=1, col=1)\n",
    "    fig.update_yaxes(title_text=\"-log10(pvalue)\", row=1, col=2)\n",
    "    return fig\n",
    "\n",
    "def volcano_figure(df, title):\n",
    "    traces = []\n",
    "    traces.append(go.Scatter(x=df.log2FC, y=df.minus_log10_pvalue,\n",
    "                             mode='markers',\n",
    "                             marker=dict(color=[volcano_color(lfc) for lfc in df.log2FC.values]),\n",
    "                             name='m/z points',\n",
    "                             text=df.text.values))\n",
    "    traces.append(go.Scatter(x=df.log2FC,\n",
    "                             y=[-np.log10(0.05)] * df.log2FC.shape[0],\n",
    "                             line=dict(color='red', dash='dash'),\n",
    "                             name='p_value=0.05'))\n",
    "    fig = go.Figure(data=traces, layout=go.Layout(title=title,\n",
    "                                                  xaxis=dict(title='log2 fold change'),\n",
    "                                                  yaxis=dict(title='-log10(pvalue)')))\n",
    "    return fig"
   ]
  },
  {
   "cell_type": "code",
   "execution_count": null,
   "metadata": {},
   "outputs": [],
   "source": [
    "old2young_tissue2volcano = {}\n",
    "old_d2young_tissue2volcano = {}\n",
    "old_d2old_tissue2volcano = {}\n",
    "\n",
    "for tissue in ['plasma', 'liver', 'muscle', 'brain_cb', 'brain_pfc']:\n",
    "    tmp_df = tissues_top[tissue]\n",
    "    old2young_tissue2volcano[tissue] = calc_volcano(tmp_df[tmp_df.age == 'young'],\n",
    "                                                    tmp_df[(tmp_df.age == 'old')&(tmp_df.vitamin == 'no')])\n",
    "    old_d2young_tissue2volcano[tissue] = calc_volcano(tmp_df[(tmp_df.age == 'young')],\n",
    "                                                     tmp_df[(tmp_df.age == 'old')&(tmp_df.vitamin == 'yes')])\n",
    "    old_d2old_tissue2volcano[tissue] = calc_volcano(tmp_df[(tmp_df.age == 'old')&(tmp_df.vitamin == 'no')],\n",
    "                                                    tmp_df[(tmp_df.age == 'old')&(tmp_df.vitamin == 'yes')])"
   ]
  },
  {
   "cell_type": "code",
   "execution_count": null,
   "metadata": {},
   "outputs": [],
   "source": [
    "tissue = 'liver'\n",
    "title = 'M/Z [{}]'.format(tissue)\n",
    "max_val = np.max(list(old2young_tissue2volcano[tissue].minus_log10_pvalue.values) +\n",
    "                 list(old_d2young_tissue2volcano[tissue].minus_log10_pvalue.values)) + 0.1\n",
    "iplot(volcano_figures(old2young_tissue2volcano[tissue], old_d2young_tissue2volcano[tissue], title, max_val))"
   ]
  },
  {
   "cell_type": "code",
   "execution_count": null,
   "metadata": {},
   "outputs": [],
   "source": [
    "tissue = 'plasma'\n",
    "title = 'M/Z [{}]'.format(tissue)\n",
    "max_val = np.max(list(old2young_tissue2volcano[tissue].minus_log10_pvalue.values) +\n",
    "                 list(old_d2young_tissue2volcano[tissue].minus_log10_pvalue.values)) + 0.1\n",
    "iplot(volcano_figures(old2young_tissue2volcano[tissue], old_d2young_tissue2volcano[tissue], title, max_val))"
   ]
  },
  {
   "cell_type": "code",
   "execution_count": null,
   "metadata": {},
   "outputs": [],
   "source": [
    "tissue = 'muscle'\n",
    "title = 'M/Z [{}]'.format(tissue)\n",
    "max_val = np.max(list(old2young_tissue2volcano[tissue].minus_log10_pvalue.values) +\n",
    "                 list(old_d2young_tissue2volcano[tissue].minus_log10_pvalue.values)) + 0.1\n",
    "iplot(volcano_figures(old2young_tissue2volcano[tissue], old_d2young_tissue2volcano[tissue], title, max_val))"
   ]
  },
  {
   "cell_type": "code",
   "execution_count": null,
   "metadata": {},
   "outputs": [],
   "source": [
    "tissue = 'brain_cb'\n",
    "title = 'M/Z [{}]'.format(tissue)\n",
    "max_val = np.max(list(old2young_tissue2volcano[tissue].minus_log10_pvalue.values) +\n",
    "                 list(old_d2young_tissue2volcano[tissue].minus_log10_pvalue.values)) + 0.1\n",
    "iplot(volcano_figures(old2young_tissue2volcano[tissue], old_d2young_tissue2volcano[tissue], title, max_val))"
   ]
  },
  {
   "cell_type": "code",
   "execution_count": null,
   "metadata": {},
   "outputs": [],
   "source": [
    "tissue = 'brain_pfc'\n",
    "title = 'M/Z [{}]'.format(tissue)\n",
    "max_val = np.max(list(old2young_tissue2volcano[tissue].minus_log10_pvalue.values) +\n",
    "                 list(old_d2young_tissue2volcano[tissue].minus_log10_pvalue.values)) + 0.1\n",
    "iplot(volcano_figures(old2young_tissue2volcano[tissue], old_d2young_tissue2volcano[tissue], title, max_val))"
   ]
  },
  {
   "cell_type": "markdown",
   "metadata": {},
   "source": [
    "#### 6. Draw PCA"
   ]
  },
  {
   "cell_type": "code",
   "execution_count": null,
   "metadata": {},
   "outputs": [],
   "source": [
    "def get_pca_components_df(df_new):\n",
    "    mz_columns = sorted(list(set(df_new.columns) - set(\n",
    "    ['Unnamed: 0', 'tissue', 'age', 'rat_type', 'vitamin', 'sample', 'Tissue'])))\n",
    "    X = df_new[mz_columns].copy()\n",
    "    X = StandardScaler().fit_transform(X)\n",
    "    pca = PCA(n_components=2)\n",
    "    components = pca.fit_transform(X)\n",
    "    pca_df = pd.DataFrame(data=components, columns=['pca_x', 'pca_y'])\n",
    "    pca_df['target'] = df_new.tissue.values\n",
    "    pca_df['rat_type'] = df_new.rat_type.values\n",
    "    return pca_df"
   ]
  },
  {
   "cell_type": "markdown",
   "metadata": {},
   "source": [
    "PCA for the different tissues of all rats"
   ]
  },
  {
   "cell_type": "code",
   "execution_count": null,
   "metadata": {},
   "outputs": [],
   "source": [
    "pca_df = get_pca_components_df(norm_data)\n",
    "fig = px.scatter(pca_df, x=\"pca_x\", y=\"pca_y\", color=\"target\", title='Different tissues PCA')\n",
    "fig.show()"
   ]
  },
  {
   "cell_type": "markdown",
   "metadata": {},
   "source": [
    "PCA for every tissue for different rat groups"
   ]
  },
  {
   "cell_type": "code",
   "execution_count": null,
   "metadata": {},
   "outputs": [],
   "source": [
    "tissue = 'liver'\n",
    "pca_df = get_pca_components_df(norm_data[norm_data.tissue==tissue].copy())\n",
    "fig = px.scatter(pca_df, x=\"pca_x\", y=\"pca_y\", color=\"rat_type\", title=tissue)\n",
    "fig.show()"
   ]
  },
  {
   "cell_type": "code",
   "execution_count": null,
   "metadata": {},
   "outputs": [],
   "source": [
    "tissue = 'brain_cb'\n",
    "pca_df = get_pca_components_df(norm_data[norm_data.tissue==tissue].copy())\n",
    "fig = px.scatter(pca_df, x=\"pca_x\", y=\"pca_y\", color=\"rat_type\", title=tissue)\n",
    "fig.show()"
   ]
  },
  {
   "cell_type": "code",
   "execution_count": null,
   "metadata": {},
   "outputs": [],
   "source": [
    "tissue = 'brain_pfc'\n",
    "pca_df = get_pca_components_df(norm_data[norm_data.tissue==tissue].copy())\n",
    "fig = px.scatter(pca_df, x=\"pca_x\", y=\"pca_y\", color=\"rat_type\", title=tissue)\n",
    "fig.show()"
   ]
  },
  {
   "cell_type": "code",
   "execution_count": null,
   "metadata": {},
   "outputs": [],
   "source": [
    "tissue = 'muscle'\n",
    "pca_df = get_pca_components_df(norm_data[norm_data.tissue==tissue].copy())\n",
    "fig = px.scatter(pca_df, x=\"pca_x\", y=\"pca_y\", color=\"rat_type\", title=tissue)\n",
    "fig.show()"
   ]
  },
  {
   "cell_type": "code",
   "execution_count": null,
   "metadata": {},
   "outputs": [],
   "source": [
    "tissue = 'plasma'\n",
    "pca_df = get_pca_components_df(norm_data[norm_data.tissue==tissue].copy())\n",
    "fig = px.scatter(pca_df, x=\"pca_x\", y=\"pca_y\", color=\"rat_type\", title=tissue)\n",
    "fig.show()"
   ]
  }
 ],
 "metadata": {
  "kernelspec": {
   "display_name": "Python 3",
   "language": "python",
   "name": "python3"
  },
  "language_info": {
   "codemirror_mode": {
    "name": "ipython",
    "version": 3
   },
   "file_extension": ".py",
   "mimetype": "text/x-python",
   "name": "python",
   "nbconvert_exporter": "python",
   "pygments_lexer": "ipython3",
   "version": "3.7.1"
  }
 },
 "nbformat": 4,
 "nbformat_minor": 2
}
